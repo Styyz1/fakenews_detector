{
 "cells": [
  {
   "cell_type": "code",
   "execution_count": 2,
   "metadata": {},
   "outputs": [],
   "source": [
    "import joblib\n",
    "# Charger le modèle\n",
    "loaded_model = joblib.load('fake_news_detector_modelv1.pkl')\n",
    "\n",
    "# Charger le TfidfVectorizer\n",
    "loaded_vectorizer = joblib.load('tfidf_vectorizer.pkl')"
   ]
  },
  {
   "cell_type": "code",
   "execution_count": 3,
   "metadata": {},
   "outputs": [
    {
     "name": "stdout",
     "output_type": "stream",
     "text": [
      "L'article est : Fake\n"
     ]
    }
   ],
   "source": [
    "# Exemple d'article à prédire\n",
    "new_article = [\"\"\"Donald Trump just accused millions of Americans of voter fraud, proving once again that he should be denied the presidency.Over the course of the last 24 hours, Trump has been whining about a recount effort in Wisconsin and attempts to trigger recounts in Michigan and Pennsylvania. If the recount goes against him, Hillary Clinton would become the President-Elect and Trump would be forced to go home and cry into a gold-lined pillow about how big of a loser he is.In addition to those Twitter posts about recounts, Trump just posted three more bragging that he won the popular vote even though the current vote count shows Hillary with more than a 2 million vote lead.Trump claims he won the popular vote because 3 million people voted illegally, which is a wild accusation that has zero evidence supporting it.In addition to winning the Electoral College in a landslide, I won the popular vote if you deduct the millions of people who voted illegally  Donald J. Trump (@realDonaldTrump) November 27, 2016Trump then claimed that he would have won the popular vote had he focused more on a few large states rather than smaller ones.It would have been much easier for me to win the so-called popular vote than the Electoral College in that I would only campaign in 3 or 4  Donald J. Trump (@realDonaldTrump) November 27, 2016states instead of the 15 states that I visited. I would have won even more easily and convincingly (but smaller states are forgotten)!  Donald J. Trump (@realDonaldTrump) November 27, 2016But the fact remains that Trump LOST the popular vote by a wide margin and his electoral margin could be flipped if recounts go the way many hope.Regardless, Donald Trump just disqualified himself from the presidency again by attacking the democratic process. Recounts are legal and Hillary Clinton has every right to ask for one, especially since Trump margin of victory in Wisconsin, Michigan, and Pennsylvania are so narrow. They re part of the democratic process.Furthermore, Trump just insulted 3 million Americans by claiming that their votes don t count. He has absolutely no proof that 3 million people voted illegally, and such a wild accusation proves that he is unfit to lead this country.Enough is enough. Donald Trump is a disgrace and he should be forced to step aside. He does not deserve the the title of President-Elect and he certainly does not deserve to be called President. Period\"\"\"]\n",
    "\n",
    "# Vectoriser l'article avec le TfidfVectorizer chargé\n",
    "new_article_vectorized = loaded_vectorizer.transform(new_article)\n",
    "\n",
    "# Prédire avec le modèle chargé\n",
    "prediction = loaded_model.predict(new_article_vectorized)\n",
    "\n",
    "# Afficher le résultat\n",
    "result = \"Fake\" if prediction == 0 else \"True\"\n",
    "print(f\"L'article est : {result}\")"
   ]
  }
 ],
 "metadata": {
  "kernelspec": {
   "display_name": "Python 3",
   "language": "python",
   "name": "python3"
  },
  "language_info": {
   "codemirror_mode": {
    "name": "ipython",
    "version": 3
   },
   "file_extension": ".py",
   "mimetype": "text/x-python",
   "name": "python",
   "nbconvert_exporter": "python",
   "pygments_lexer": "ipython3",
   "version": "3.9.6"
  }
 },
 "nbformat": 4,
 "nbformat_minor": 2
}
